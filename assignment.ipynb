{
 "cells": [
  {
   "cell_type": "markdown",
   "metadata": {},
   "source": [
    "# Test assignment\n",
    "\n",
    "This is a test for the assignment pipeline. Below, you find two simple exercises. Try to finish them, commit your submission notebook, and check out the test result!\n",
    "\n",
    "To check out instructions on how to complete your assignment, you can check out the course info repo:\n",
    "https://github.com/MScNE-LSMLSDA/course-info"
   ]
  },
  {
   "cell_type": "markdown",
   "metadata": {},
   "source": [
    "## Exercise 0\n",
    "Write a function `hello_world()` that takes no input and return the string `\"Hello, world!\"`"
   ]
  },
  {
   "cell_type": "code",
   "execution_count": null,
   "metadata": {},
   "outputs": [],
   "source": [
    "def hello_world():\n",
    "    ..."
   ]
  },
  {
   "cell_type": "markdown",
   "metadata": {},
   "source": [
    "## Exercise 1\n",
    "\n",
    "Write a function `factorial(n)` that takes as input an integer `n` and returns its factorial.\n",
    "\n",
    "Test cases:\n",
    "```\n",
    "In: 0\n",
    "Return: 1\n",
    "\n",
    "In: 4\n",
    "Return: 24\n",
    "\n",
    "In: 10\n",
    "Return 3628800\n",
    "```"
   ]
  },
  {
   "cell_type": "code",
   "execution_count": null,
   "metadata": {},
   "outputs": [],
   "source": [
    "def factorial(n):\n",
    "    ..."
   ]
  }
 ],
 "metadata": {
  "colab": {
   "authorship_tag": "ABX9TyMjoiwxBr2ef1paYnMayACg",
   "collapsed_sections": [],
   "name": "nb_gen.ipynb",
   "provenance": []
  },
  "kernelspec": {
   "display_name": "Python 3",
   "language": "python",
   "name": "python3"
  },
  "language_info": {
   "codemirror_mode": {
    "name": "ipython",
    "version": 3
   },
   "file_extension": ".py",
   "mimetype": "text/x-python",
   "name": "python",
   "nbconvert_exporter": "python",
   "pygments_lexer": "ipython3",
   "version": "3.7.3"
  }
 },
 "nbformat": 4,
 "nbformat_minor": 4
}
