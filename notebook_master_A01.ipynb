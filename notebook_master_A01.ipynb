{
 "cells": [
  {
   "cell_type": "code",
   "execution_count": null,
   "metadata": {},
   "outputs": [],
   "source": [
    "%matplotlib widget"
   ]
  },
  {
   "cell_type": "markdown",
   "metadata": {},
   "source": [
    "## Loading packages and functions\n",
    "\n",
    "**Understand what the packages below are and do.**"
   ]
  },
  {
   "cell_type": "code",
   "execution_count": null,
   "metadata": {},
   "outputs": [],
   "source": [
    "import matplotlib.pyplot as plt\n",
    "import numpy as np\n",
    "import pandas as pd"
   ]
  },
  {
   "cell_type": "markdown",
   "metadata": {},
   "source": [
    "## 2-photon dataset\n",
    "**Load the tiff stack corresponding to plane 65: *plane065.tif* and load it into a numpy array called *images*. A stack is a file that contains a set of images. It is therefore a three dimensional array (Z,X,Y) or (T,X,Y) depending on whether the different images are from different planes or the same plane at different times. You can also open this stack with ImageJ and browse through it.**"
   ]
  },
  {
   "cell_type": "code",
   "execution_count": null,
   "metadata": {},
   "outputs": [],
   "source": [
    "from PIL import Image\n",
    "\n",
    "img = Image.open(r\"C:\\Users\\rportugues\\zenith\\2p\\plane065.tif\")\n",
    "images = []\n",
    "for i in range(img.n_frames):\n",
    "    img.seek(i)\n",
    "    images.append(np.array(img))\n"
   ]
  },
  {
   "cell_type": "markdown",
   "metadata": {},
   "source": [
    "**Use** np.shape **to query the dimensions of the array *images*. Does this make sense from what you observed in ImageJ?**"
   ]
  },
  {
   "cell_type": "code",
   "execution_count": null,
   "metadata": {},
   "outputs": [],
   "source": []
  },
  {
   "cell_type": "markdown",
   "metadata": {},
   "source": [
    "**Generate an anatomy of this plane by summing all the frames. It should look very similar to**\n",
    "\n",
    "![](images/figure1.png)\n",
    "\n",
    "**Do you know where you are in the fish brain?**"
   ]
  },
  {
   "cell_type": "code",
   "execution_count": null,
   "metadata": {},
   "outputs": [],
   "source": []
  },
  {
   "cell_type": "markdown",
   "metadata": {},
   "source": [
    "**Now we will use the function** phase_cross_correlation **from skimage. We want to perform sub-pixel corrections, say to 0.1 of a pixel, so make sure you use the** upsample_factor **argument. Save the shifts in the X and Y directions in two arrays called *Xs* and *Ys* and compute also a *total_motion* array (use pythagoras).**"
   ]
  },
  {
   "cell_type": "code",
   "execution_count": null,
   "metadata": {},
   "outputs": [],
   "source": []
  },
  {
   "cell_type": "markdown",
   "metadata": {},
   "source": [
    "**Plot the total motion of each frame. Do you think the motion arises from continuous drifts or acute motor events? In a second subplot, plot a scatter plot of the shift for each frame. You can choose to add some jitter so you can visualize dots that are superimposed on one another.**"
   ]
  },
  {
   "cell_type": "code",
   "execution_count": null,
   "metadata": {},
   "outputs": [],
   "source": []
  },
  {
   "cell_type": "markdown",
   "metadata": {},
   "source": [
    "## Second order correction of motion artifact\n",
    "\n",
    "**Correct the individual frames by performing an individual sub-pixel alignment frame by frame. In order to do this use the function** shift **from** scipy.image.\n",
    "\n",
    "**Use this new corrected stack to generate a new aligned_anatomy. Display the difference image between the original and the aligned anatomies.**"
   ]
  },
  {
   "cell_type": "code",
   "execution_count": null,
   "metadata": {},
   "outputs": [],
   "source": [
    "\n"
   ]
  },
  {
   "cell_type": "code",
   "execution_count": null,
   "metadata": {},
   "outputs": [],
   "source": []
  },
  {
   "cell_type": "markdown",
   "metadata": {},
   "source": [
    "**Align the ORIGINAL frames to this new aligned_anatomy. Compute the total shift of each frame to this aligned_anatomy and plot this shift on top of the shift you obtained for the first alignment. Why are these different?**"
   ]
  },
  {
   "cell_type": "code",
   "execution_count": null,
   "metadata": {},
   "outputs": [],
   "source": []
  },
  {
   "cell_type": "code",
   "execution_count": null,
   "metadata": {},
   "outputs": [],
   "source": []
  },
  {
   "cell_type": "markdown",
   "metadata": {},
   "source": [
    "**Finally shift the original frames by this new amount to obtain a final stack. You can sum this final stack to obtain a final anatomy.**\n"
   ]
  },
  {
   "cell_type": "code",
   "execution_count": null,
   "metadata": {},
   "outputs": [],
   "source": []
  },
  {
   "cell_type": "code",
   "execution_count": null,
   "metadata": {},
   "outputs": [],
   "source": []
  },
  {
   "cell_type": "markdown",
   "metadata": {},
   "source": [
    "## Creating a correlation map\n",
    "\n",
    "**Use the function** pearsonr **from** scipy.stats **to compute the correlation between the (summed) fluorescence time series of one pixel and that fluorescence time series of its eight surrounding pixels (ignore boundary pixels for now).**\n",
    "\n",
    "**Plot it alongside the anatomy. It should look something like:**\n",
    "\n",
    "![](images/figure2.png)"
   ]
  },
  {
   "cell_type": "code",
   "execution_count": null,
   "metadata": {},
   "outputs": [],
   "source": [
    "\n"
   ]
  }
 ],
 "metadata": {
  "kernelspec": {
   "display_name": "Python 3",
   "language": "python",
   "name": "python3"
  },
  "language_info": {
   "codemirror_mode": {
    "name": "ipython",
    "version": 3
   },
   "file_extension": ".py",
   "mimetype": "text/x-python",
   "name": "python",
   "nbconvert_exporter": "python",
   "pygments_lexer": "ipython3",
   "version": "3.7.7"
  }
 },
 "nbformat": 4,
 "nbformat_minor": 4
}
