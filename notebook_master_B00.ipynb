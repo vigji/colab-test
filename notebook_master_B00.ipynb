{
 "cells": [
  {
   "cell_type": "markdown",
   "metadata": {},
   "source": [
    "# Affine transformation and  transformation matrices"
   ]
  },
  {
   "cell_type": "code",
   "execution_count": null,
   "metadata": {},
   "outputs": [],
   "source": [
    "import numpy as np\n",
    "import matplotlib.pyplot as plt"
   ]
  },
  {
   "cell_type": "markdown",
   "metadata": {},
   "source": [
    "A point in a 2D space is described by 2 coordinates: $(x, y)$.\n",
    "\n",
    "Some geometrical shape, eg a square, can be described by a collection of 2D coordinates, that we can put together in a matrix.\n",
    "\n",
    "So, the collection of points that define a square is \n",
    "$$\\begin{pmatrix} x_0 & y_0 \\\\ x_1 & y_1 \\\\ x_2  & y_2 \\\\ x_3 & y_3 \\end{pmatrix}$$"
   ]
  },
  {
   "cell_type": "code",
   "execution_count": null,
   "metadata": {},
   "outputs": [],
   "source": [
    "# Define a square of edge length s as a (2, 4) matrix and plot it. \n",
    "# You can use this function to plot the square:\n",
    "def plot_square(coords):\n",
    "    plt.figure()\n",
    "    edges = np.concatenate([coords, coords[:, :1]], axis=1)\n",
    "    plt.plot(edges[0, :], edges[1, :], \"--\", color=\"k\", zorder=-1)\n",
    "    plt.scatter(coords[0, :], coords[1, :], c=[\"r\", \"b\", \"g\", \"y\"])\n",
    "    plt.axis(\"equal\")\n",
    "    plt.show()\n",
    "    \n",
    "s = 1\n",
    "\n",
    "square_coords = np.array([[0, 0], [0, s], [s, s], [s, 0]]).T\n",
    "plot_square(square_coords)"
   ]
  },
  {
   "cell_type": "markdown",
   "metadata": {},
   "source": [
    "### Transformation matrix\n",
    "\n",
    "If we want to transform this square (eg stretch it, or rotate it), we can use a **transformation matrix**. Multiplying the coordinates by the transformation matrix will transform our square. Eg, if we want to scale it, we can just multiply the coordinate array with the transformation matrix:\n",
    "\n",
    "$$\\begin{pmatrix} s_x & 0 \\\\ 0 & s_y \\end{pmatrix}$$\n",
    "\n",
    "where $s_x$ and $s_x$ are the scaling factors over $x$ and $y$.\n",
    "\n",
    "The new coordinates will be the result of \n",
    "\n",
    "$$C_{trasf} = TC_{original} $$\n",
    "\n",
    "Where $C_{original}$ is the original matrix of coordinates, $T$ is the transformation matrix, an $C_{trasf}$ is the result of the dot product (`@` operator or `np.dot` numpy function)"
   ]
  },
  {
   "cell_type": "code",
   "execution_count": null,
   "metadata": {},
   "outputs": [],
   "source": [
    "# Try to multiply the coordinates with the matrix defined below and look at the results. \n",
    "# Try to play the scale factors in x and y. What happens if they are negative?\n",
    "s_x = 2\n",
    "s_y = 3\n",
    "transform_mat = np.array([[s_x, 0], [0, s_y]])\n",
    "transformed_coords = transform_mat@square_coords\n",
    "\n",
    "plot_square(square_coords)"
   ]
  },
  {
   "cell_type": "markdown",
   "metadata": {},
   "source": [
    "### Other transformations\n",
    "\n",
    "Adding values in the off-diagonal entries of the matrix can shear our figure, or rotate it.\n",
    "To shear it by an angle $\\phi$ in the $x$ or $y$ angle, the trasformation matrix is\n",
    "\n",
    "$$\\begin{pmatrix} 1 & tan(\\phi) \\\\ 0 & 1 \\end{pmatrix}$$\n",
    "\n",
    "or \n",
    "\n",
    "$$\\begin{pmatrix} 1 & 0 \\\\  tan(\\phi) & 1 \\end{pmatrix}$$\n",
    "\n",
    "respectively.\n",
    "\n",
    "To rotate the figure by an angle $\\theta$ around the origin, the transformation matrix is\n",
    "\n",
    "$$\\begin{pmatrix} cos(\\theta) & sin(\\theta) \\\\  -sin(\\theta) & cos(\\theta) \\end{pmatrix}$$"
   ]
  },
  {
   "cell_type": "code",
   "execution_count": null,
   "metadata": {},
   "outputs": [],
   "source": [
    "# Try to shear or rotate the coordinates and plot them\n",
    "\n"
   ]
  },
  {
   "cell_type": "markdown",
   "metadata": {},
   "source": [
    "### Translation\n",
    "Multyplying the coordinated by the transformation matrix won't let us translate the square. On the other side, just adding values to the $x$ and $y$ coordinates would do that very easily.\n",
    "\n",
    "To combine translation and other transformations within the same transformation matrix, we use the following trick: we add a column of ones to the coordinate vector; and for a 2D space we use a 3D transformation matrix with two additional entries.\n",
    "\n",
    "For a simple translation, the transformation matrix will be:\n",
    "\n",
    "$$\\begin{pmatrix} 1 & 0 & t_x \\\\  0 & 1 & t_y \\\\ 0 & 0 & 1 \\end{pmatrix}$$\n"
   ]
  },
  {
   "cell_type": "code",
   "execution_count": null,
   "metadata": {},
   "outputs": [],
   "source": [
    "# Let's define a new vector of coordinates, this time with an additional row of ones:\n",
    "s = 2\n",
    "square_coords_ones = np.array([[0, 0, 1], [0, s, 1], [s, s, 1], [s, 0, 1]]).T\n",
    "square_coords_ones"
   ]
  },
  {
   "cell_type": "code",
   "execution_count": null,
   "metadata": {},
   "outputs": [],
   "source": [
    "# Try to write a trasformation matrix that produces a traslation. \n",
    "# Then multiply it by the new coordinates and show the results. \n",
    "# Note that the result of your multiplication still have the columns of ones! The plotting function is just ignoring it."
   ]
  },
  {
   "cell_type": "code",
   "execution_count": null,
   "metadata": {},
   "outputs": [],
   "source": [
    "t_x = 2\n",
    "t_y = 3\n",
    "transform_mat_trasl = np.array([[1, 0, t_x], [0, 1, t_y], [0, 0, 1]])\n",
    "\n",
    "plot_square(transform_mat_trasl@square_coords_ones)"
   ]
  },
  {
   "cell_type": "markdown",
   "metadata": {},
   "source": [
    "## Rigid transformations\n",
    "\n",
    "Transformations that preserve the distances between couple of points are called \"rigid transformations\". Those transformations just move our image around the plane (translating or rotating it), without deforming it.\n",
    "To know whether a transformation matrix is rigid or not, you can calculate its determinant (`numpy` function: `np.linalg.det`). If it is 1, the transformation is rigid (and if it is different than 1, it will tell you the ratio between the area of the transformed and the original figure!)."
   ]
  },
  {
   "cell_type": "code",
   "execution_count": null,
   "metadata": {},
   "outputs": [],
   "source": [
    "# Use np.linalg.det to check the determinant of some the transformations we did above! \n",
    "# What happens if you change the sign of an element in the diagonal? How do you interpret it?"
   ]
  },
  {
   "cell_type": "markdown",
   "metadata": {},
   "source": [
    "## Combining transformations\n",
    "\n",
    "Transformations can be applied one after the other!\n",
    "\n",
    "Let's have 2 transformations, _e.g._, a rotation:\n",
    "\n",
    "$$T = \\begin{pmatrix} 1 & 0 & t_x \\\\  0 & 1 & t_y \\\\ 0 & 0 & 1 \\end{pmatrix}$$\n",
    "\n",
    "and a rotation:\n",
    "\n",
    "$$R = \\begin{pmatrix} cos(\\theta) & sin(\\theta) & 0 \\\\  -sin(\\theta) & cos(\\theta) & 0 \\\\ 0 & 0 & 1 \\end{pmatrix}$$\n",
    "\n",
    "To apply the transformation, the operation would be:\n",
    "\n",
    "$$C_{trasl} = TC_{original} $$\n",
    "\n",
    "To also rotate the result, we would then need to multiply the result by the rotation matrix:\n",
    "\n",
    "$$C_{trasl-rot} = RC_{trasl} $$\n",
    "\n",
    "This can be written in just one operation as (remember, we start applying the right-most matrix multiplication first)\n",
    "\n",
    "$$C_{trasl-rot} = RTC_{original} $$\n",
    "\n",
    "or \n",
    "\n",
    "$$C_{trasl-rot} = MC_{original} $$\n",
    "\n",
    "Where $M = RT$ is just the result of the dot product between the two matrices."
   ]
  },
  {
   "cell_type": "code",
   "execution_count": null,
   "metadata": {},
   "outputs": [],
   "source": [
    "# In code:\n",
    "t_x = 2\n",
    "t_y = 3\n",
    "th = 0.5\n",
    "t_mat_trasl = np.array([[1, 0, t_x], [0, 1, t_y], [0, 0, 1]])\n",
    "t_mat_rot = np.array([[np.cos(th), np.sin(th), 0], [-np.sin(th), np.cos(th), 0], [0, 0, 1]])\n",
    "\n",
    "\n",
    "# Transform\n",
    "transformed_coords = t_mat_rot @ t_mat_trasl @ square_coords_ones"
   ]
  },
  {
   "cell_type": "code",
   "execution_count": null,
   "metadata": {},
   "outputs": [],
   "source": [
    "plot_square(transformed_coords)"
   ]
  },
  {
   "cell_type": "code",
   "execution_count": null,
   "metadata": {},
   "outputs": [],
   "source": [
    "# Try to combine the two transformations in a single matrix M that you apply to the coordinates.\n",
    "\n",
    "# What happens if you invert the order of the transformation? Can you explain what you see?"
   ]
  },
  {
   "cell_type": "markdown",
   "metadata": {},
   "source": [
    "## Transformation matrices for volumes\n",
    "\n",
    "In our morphing procedure, we will be dealing with volumes. All the math that we have seen here still apply; the only difference is that instead of a $3 × n_{coords}$ matrix of coordinates and a $3 × 3$ transformation matrix, we will have a $4 × n_{coords}$ matrix of coordinates and a $4 × 4$ transformation matrix."
   ]
  }
 ],
 "metadata": {
  "kernelspec": {
   "display_name": "rpzenith",
   "language": "python",
   "name": "rpzenith"
  },
  "language_info": {
   "codemirror_mode": {
    "name": "ipython",
    "version": 3
   },
   "file_extension": ".py",
   "mimetype": "text/x-python",
   "name": "python",
   "nbconvert_exporter": "python",
   "pygments_lexer": "ipython3",
   "version": "3.7.10"
  }
 },
 "nbformat": 4,
 "nbformat_minor": 4
}
