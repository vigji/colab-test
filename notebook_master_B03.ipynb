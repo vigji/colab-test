{
 "cells": [
  {
   "cell_type": "markdown",
   "metadata": {},
   "source": [
    "# Use a brain atlas - visualize data in reference space"
   ]
  },
  {
   "cell_type": "markdown",
   "metadata": {},
   "source": [
    "Here we use **brainrender**([code](https://github.com/brainglobe/brainrender), [docs](https://docs.brainrender.info), [preprint](https://www.biorxiv.org/content/10.1101/2020.02.23.961748v2)) to visualize our morphed ROIs in a common reference space.\n",
    "\n",
    "\n",
    "before starting, make sure you\n",
    "```\n",
    "pip install brainrender\n",
    "```\n",
    "When running a brainrender visualization, a new window will open; to interrupt its execution, you can press esc, ctrl-C or Q (not necessarily all work :) )\n",
    "\n",
    "Brainrender is thought to be used in scripts, more then notebooks. It should be fine in notebooks also, but there is a non-zero chance you won't be able to see a window opening, or to quit it. If it happens just move the code to a script.py file and run it from the terminal, after activating your environment, with \n",
    "\n",
    "```\n",
    "python all_the/path/to/script.py\n",
    "```"
   ]
  },
  {
   "cell_type": "code",
   "execution_count": null,
   "metadata": {},
   "outputs": [],
   "source": [
    " import numpy as np\n",
    "\n",
    "from brainrender import Scene\n",
    "from brainrender.actors import Points\n",
    "\n",
    "from pathlib import Path"
   ]
  },
  {
   "cell_type": "code",
   "execution_count": null,
   "metadata": {},
   "outputs": [],
   "source": [
    "# Those are necessary for running brainrender in a notebook - remove if using in scripts\n",
    "from vedo import embedWindow                                                                \n",
    "embedWindow(None)\n",
    "\n",
    "# Load cells from previous notebook:\n",
    "anatomies_folder = Path(r\"/...\")\n",
    "cells = np.load(anatomies_folder / \"morphed_coords1.npy\")\n",
    "\n",
    "\n",
    "# we did the morphing in a 3um downsampled space, but here we need to multiply them back in the original atlas space of 1um voxels\n",
    "#normally this ugly arbitrary step does not happen if you morph, with more time, to the original atlas space\n",
    "cells = cells * 3\n",
    "\n",
    "# Create a brainrender scene using the zebrafish atlas:\n",
    "scene = Scene(atlas_name=\"mpin_zfish_1um\", title=\"Labelled cells\")\n",
    "\n",
    "# Add to scene - we use a subset of cells just for clarity:\n",
    "scene.add(Points(cells[::10, :], name=\"CELLS\", colors=\"steelblue\", radius=2))\n",
    "\n",
    "# render - click esc to interrupt!\n",
    "scene.content\n",
    "scene.render()"
   ]
  },
  {
   "cell_type": "markdown",
   "metadata": {},
   "source": [
    "We can also add brain regions to the scene! For example:"
   ]
  },
  {
   "cell_type": "code",
   "execution_count": null,
   "metadata": {},
   "outputs": [],
   "source": [
    "?scene.add_brain_region"
   ]
  },
  {
   "cell_type": "code",
   "execution_count": null,
   "metadata": {},
   "outputs": [],
   "source": [
    "anatomies_folder = Path(r\"/Users/luigipetrucco/Desktop/anatomies_orig\")\n",
    "cells = np.load(anatomies_folder / \"morphed_coords1.npy\")\n",
    "\n",
    "\n",
    "# we did the morphing in a 3um downsampled space, but here we need to multiply them back in the original atlas space of 1um voxels\n",
    "#normally this ugly arbitrary step does not happen if you morph, with more time, to the original atlas space\n",
    "cells = cells * 3\n",
    "\n",
    "# Create a brainrender scene using the zebrafish atlas:\n",
    "scene = Scene(atlas_name=\"mpin_zfish_1um\", title=\"Labelled cells\")\n",
    "\n",
    "# Add to scene - we use a subset of cells just for clarity:\n",
    "scene.add(Points(cells[::10, :], name=\"CELLS\", colors=\"steelblue\", radius=2))\n",
    "\n",
    "scene.add_brain_region(\"nucleus of the medial longitudinal fascicle\", color=\"green\", silhouette=True)\n",
    "\n",
    "# render - click esc to interrupt!\n",
    "scene.content\n",
    "scene.render()"
   ]
  },
  {
   "cell_type": "markdown",
   "metadata": {},
   "source": [
    "Brainrender relies on the bg-atlasapi library that we introduced in the previous notebook.\n",
    "To explore the available regions you can look into:"
   ]
  },
  {
   "cell_type": "code",
   "execution_count": null,
   "metadata": {},
   "outputs": [],
   "source": [
    "import numpy as np\n",
    "from bg_atlasapi.bg_atlas import BrainGlobeAtlas\n",
    "\n",
    "atlas = BrainGlobeAtlas(\"mpin_zfish_1um\")\n",
    "atlas.structures"
   ]
  },
  {
   "cell_type": "markdown",
   "metadata": {},
   "source": [
    "Now try to play with the visualization, adding ROIs from all fish in different colors, or adding other brain regions!"
   ]
  },
  {
   "cell_type": "markdown",
   "metadata": {},
   "source": [
    "# Visualizing brain regions in napari"
   ]
  },
  {
   "cell_type": "markdown",
   "metadata": {},
   "source": [
    "We can also do a similar visualization in napari. The atlas class has also an \"annotation\" stack where each voxel has an index that corresponds to a brain region - at the finest level of the hierarchy we plotted above. To get composed regions, there is a \"get_structure_mask\" method. For a broader overview, you can have a look at the package [repo](https://github.com/brainglobe/bg-atlasapi) and [docs](https://docs.brainglobe.info/bg-atlasapi/usage)!"
   ]
  },
  {
   "cell_type": "code",
   "execution_count": null,
   "metadata": {},
   "outputs": [],
   "source": [
    "ipn_mask = atlas.annotation == atlas.structures[\"nucleus of the medial longitudinal fascicle\"][\"id\"]\n",
    "cerebellum_mask = atlas.get_structure_mask(\"habenula\")"
   ]
  },
  {
   "cell_type": "code",
   "execution_count": null,
   "metadata": {},
   "outputs": [],
   "source": [
    "import napari\n",
    "%gui qt"
   ]
  },
  {
   "cell_type": "code",
   "execution_count": null,
   "metadata": {},
   "outputs": [],
   "source": [
    "# Open the viewer. Explore it both in slice view and in 3D view!\n",
    "\n",
    "v = napari.view_image(atlas.reference)\n",
    "v.add_labels(ipn_mask)\n",
    "v.add_labels(cerebellum_mask)\n",
    "v.add_points(cells[::10, :], n_dimensional=True, size=2)"
   ]
  }
 ],
 "metadata": {
  "kernelspec": {
   "display_name": "zenenv",
   "language": "python",
   "name": "zenenv"
  },
  "language_info": {
   "codemirror_mode": {
    "name": "ipython",
    "version": 3
   },
   "file_extension": ".py",
   "mimetype": "text/x-python",
   "name": "python",
   "nbconvert_exporter": "python",
   "pygments_lexer": "ipython3",
   "version": "3.8.0"
  }
 },
 "nbformat": 4,
 "nbformat_minor": 4
}
